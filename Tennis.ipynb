{
 "cells": [
  {
   "cell_type": "markdown",
   "metadata": {},
   "source": [
    "# Collaboration and Competition\n",
    "\n",
    "---\n",
    "\n",
    "You are welcome to use this coding environment to train your agent for the project.  Follow the instructions below to get started!\n",
    "\n",
    "### 1. Start the Environment\n",
    "\n",
    "Run the next code cell to install a few packages.  This line will take a few minutes to run!"
   ]
  },
  {
   "cell_type": "code",
   "execution_count": 1,
   "metadata": {},
   "outputs": [],
   "source": [
    "!pip -q install ./python"
   ]
  },
  {
   "cell_type": "markdown",
   "metadata": {},
   "source": [
    "The environment is already saved in the Workspace and can be accessed at the file path provided below. "
   ]
  },
  {
   "cell_type": "code",
   "execution_count": 2,
   "metadata": {},
   "outputs": [
    {
     "name": "stderr",
     "output_type": "stream",
     "text": [
      "INFO:unityagents:\n",
      "'Academy' started successfully!\n",
      "Unity Academy name: Academy\n",
      "        Number of Brains: 1\n",
      "        Number of External Brains : 1\n",
      "        Lesson number : 0\n",
      "        Reset Parameters :\n",
      "\t\t\n",
      "Unity brain name: TennisBrain\n",
      "        Number of Visual Observations (per agent): 0\n",
      "        Vector Observation space type: continuous\n",
      "        Vector Observation space size (per agent): 8\n",
      "        Number of stacked Vector Observation: 3\n",
      "        Vector Action space type: continuous\n",
      "        Vector Action space size (per agent): 2\n",
      "        Vector Action descriptions: , \n"
     ]
    }
   ],
   "source": [
    "from unityagents import UnityEnvironment\n",
    "import numpy as np\n",
    "\n",
    "env = UnityEnvironment(file_name=\"/data/Tennis_Linux_NoVis/Tennis\")\n",
    "# get the default brain\n",
    "brain_name = env.brain_names[0]\n",
    "brain = env.brains[brain_name]"
   ]
  },
  {
   "cell_type": "markdown",
   "metadata": {},
   "source": [
    "### 2. Examine the State and Action Spaces\n",
    "\n",
    "Run the code cell below to print some information about the environment."
   ]
  },
  {
   "cell_type": "code",
   "execution_count": 4,
   "metadata": {},
   "outputs": [
    {
     "name": "stdout",
     "output_type": "stream",
     "text": [
      "Number of agents: 2\n",
      "Size of each action: 2\n",
      "There are 2 agents. Each observes a state with length: 24\n",
      "The state for the first agent looks like: [ 0.          0.          0.          0.          0.          0.          0.\n",
      "  0.          0.          0.          0.          0.          0.          0.\n",
      "  0.          0.         -6.65278625 -1.5        -0.          0.\n",
      "  6.83172083  6.         -0.          0.        ]\n",
      "The state for the second agent looks like: [ 0.          0.          0.          0.          0.          0.          0.\n",
      "  0.          0.          0.          0.          0.          0.          0.\n",
      "  0.          0.         -6.4669857  -1.5         0.          0.\n",
      " -6.83172083  6.          0.          0.        ]\n"
     ]
    }
   ],
   "source": [
    "# reset the environment\n",
    "env_info = env.reset(train_mode=True)[brain_name]\n",
    "\n",
    "# number of agents \n",
    "num_agents = len(env_info.agents)\n",
    "print('Number of agents:', num_agents)\n",
    "\n",
    "# size of each action\n",
    "action_size = brain.vector_action_space_size\n",
    "print('Size of each action:', action_size)\n",
    "\n",
    "# examine the state space \n",
    "states = env_info.vector_observations\n",
    "state_size = states.shape[1]\n",
    "print('There are {} agents. Each observes a state with length: {}'.format(states.shape[0], state_size))\n",
    "print('The state for the first agent looks like:', states[0])\n",
    "print('The state for the second agent looks like:', states[1])"
   ]
  },
  {
   "cell_type": "markdown",
   "metadata": {},
   "source": [
    "### 3. Take Random Actions in the Environment\n",
    "\n",
    "In the next code cell, you will learn how to use the Python API to control the agent and receive feedback from the environment.\n",
    "\n",
    "Note that **in this coding environment, you will not be able to watch the agents while they are training**, and you should set `train_mode=True` to restart the environment."
   ]
  },
  {
   "cell_type": "code",
   "execution_count": 6,
   "metadata": {},
   "outputs": [
    {
     "name": "stdout",
     "output_type": "stream",
     "text": [
      "Total score (averaged over agents) this episode: -0.004999999888241291\n",
      "Total score (averaged over agents) this episode: -0.004999999888241291\n",
      "Total score (averaged over agents) this episode: -0.004999999888241291\n",
      "Total score (averaged over agents) this episode: -0.004999999888241291\n",
      "Total score (averaged over agents) this episode: -0.004999999888241291\n"
     ]
    }
   ],
   "source": [
    "for i in range(5):                                         # play game for 5 episodes\n",
    "    env_info = env.reset(train_mode=False)[brain_name]     # reset the environment    \n",
    "    states = env_info.vector_observations                  # get the current state (for each agent)\n",
    "    scores = np.zeros(num_agents)                          # initialize the score (for each agent)\n",
    "    while True:\n",
    "        actions = np.random.randn(num_agents, action_size) # select an action (for each agent)\n",
    "        actions = np.clip(actions, -1, 1)                  # all actions between -1 and 1\n",
    "        env_info = env.step(actions)[brain_name]           # send all actions to tne environment\n",
    "        next_states = env_info.vector_observations         # get next state (for each agent)\n",
    "        rewards = env_info.rewards                         # get reward (for each agent)\n",
    "        dones = env_info.local_done                        # see if episode finished\n",
    "        scores += env_info.rewards                         # update the score (for each agent)\n",
    "        states = next_states                               # roll over states to next time step\n",
    "        if np.any(dones):                                  # exit loop if episode finished\n",
    "            break\n",
    "    print('Total score (averaged over agents) this episode: {}'.format(np.mean(scores)))"
   ]
  },
  {
   "cell_type": "markdown",
   "metadata": {},
   "source": [
    "When finished, you can close the environment."
   ]
  },
  {
   "cell_type": "code",
   "execution_count": 7,
   "metadata": {},
   "outputs": [],
   "source": [
    "env.close()"
   ]
  },
  {
   "cell_type": "markdown",
   "metadata": {},
   "source": [
    "### 4. It's Your Turn!\n",
    "\n",
    "Now it's your turn to train your own agent to solve the environment!  A few **important notes**:\n",
    "- When training the environment, set `train_mode=True`, so that the line for resetting the environment looks like the following:\n",
    "```python\n",
    "env_info = env.reset(train_mode=True)[brain_name]\n",
    "```\n",
    "- To structure your work, you're welcome to work directly in this Jupyter notebook, or you might like to start over with a new file!  You can see the list of files in the workspace by clicking on **_Jupyter_** in the top left corner of the notebook.\n",
    "- In this coding environment, you will not be able to watch the agents while they are training.  However, **_after training the agents_**, you can download the saved model weights to watch the agents on your own machine! "
   ]
  },
  {
   "cell_type": "code",
   "execution_count": 3,
   "metadata": {},
   "outputs": [],
   "source": [
    "import random\n",
    "import torch\n",
    "import numpy as np\n",
    "from collections import deque\n",
    "from itertools import count\n",
    "import matplotlib.pyplot as plt\n",
    "%matplotlib inline"
   ]
  },
  {
   "cell_type": "code",
   "execution_count": 4,
   "metadata": {},
   "outputs": [],
   "source": [
    "from maddpg_agents import MetaAgent\n",
    "meta_agent = MetaAgent()"
   ]
  },
  {
   "cell_type": "code",
   "execution_count": 5,
   "metadata": {},
   "outputs": [
    {
     "name": "stdout",
     "output_type": "stream",
     "text": [
      "training started\n",
      "Episode 10\tAverage Score: 0.000\n",
      "Episode 20\tAverage Score: 0.005\n",
      "Episode 30\tAverage Score: 0.010\n",
      "Episode 40\tAverage Score: 0.007\n",
      "Episode 50\tAverage Score: 0.010\n",
      "Episode 60\tAverage Score: 0.008\n",
      "Episode 70\tAverage Score: 0.007\n",
      "Episode 80\tAverage Score: 0.006\n",
      "Episode 90\tAverage Score: 0.005\n",
      "Episode 100\tAverage Score: 0.006\n",
      "Episode 110\tAverage Score: 0.006\n",
      "Episode 120\tAverage Score: 0.006\n",
      "Episode 130\tAverage Score: 0.004\n",
      "Episode 140\tAverage Score: 0.007\n",
      "Episode 150\tAverage Score: 0.007\n",
      "Episode 160\tAverage Score: 0.008\n",
      "Episode 170\tAverage Score: 0.009\n",
      "Episode 180\tAverage Score: 0.009\n",
      "Episode 190\tAverage Score: 0.009\n",
      "Episode 200\tAverage Score: 0.009\n",
      "Episode 210\tAverage Score: 0.009\n",
      "Episode 220\tAverage Score: 0.009\n",
      "Episode 230\tAverage Score: 0.009\n",
      "Episode 240\tAverage Score: 0.007\n",
      "Episode 250\tAverage Score: 0.005\n",
      "Episode 260\tAverage Score: 0.003\n",
      "Episode 270\tAverage Score: 0.002\n",
      "Episode 280\tAverage Score: 0.002\n",
      "Episode 290\tAverage Score: 0.004\n",
      "Episode 300\tAverage Score: 0.003\n",
      "Episode 310\tAverage Score: 0.003\n",
      "Episode 320\tAverage Score: 0.002\n",
      "Episode 330\tAverage Score: 0.002\n",
      "Episode 340\tAverage Score: 0.003\n",
      "Episode 350\tAverage Score: 0.004\n",
      "Episode 360\tAverage Score: 0.006\n",
      "Episode 370\tAverage Score: 0.007\n",
      "Episode 380\tAverage Score: 0.007\n",
      "Episode 390\tAverage Score: 0.006\n",
      "Episode 400\tAverage Score: 0.006\n",
      "Episode 410\tAverage Score: 0.009\n",
      "Episode 420\tAverage Score: 0.009\n",
      "Episode 430\tAverage Score: 0.009\n",
      "Episode 440\tAverage Score: 0.009\n",
      "Episode 450\tAverage Score: 0.011\n",
      "Episode 460\tAverage Score: 0.009\n",
      "Episode 470\tAverage Score: 0.012\n",
      "Episode 480\tAverage Score: 0.013\n",
      "Episode 490\tAverage Score: 0.014\n",
      "Episode 500\tAverage Score: 0.014\n",
      "Episode 510\tAverage Score: 0.012\n",
      "Episode 520\tAverage Score: 0.015\n",
      "Episode 530\tAverage Score: 0.016\n",
      "Episode 540\tAverage Score: 0.015\n",
      "Episode 550\tAverage Score: 0.013\n",
      "Episode 560\tAverage Score: 0.013\n",
      "Episode 570\tAverage Score: 0.010\n",
      "Episode 580\tAverage Score: 0.010\n",
      "Episode 590\tAverage Score: 0.012\n",
      "Episode 600\tAverage Score: 0.016\n",
      "Episode 610\tAverage Score: 0.021\n",
      "Episode 620\tAverage Score: 0.020\n",
      "Episode 630\tAverage Score: 0.020\n",
      "Episode 640\tAverage Score: 0.024\n",
      "Episode 650\tAverage Score: 0.024\n",
      "Episode 660\tAverage Score: 0.027\n",
      "Episode 670\tAverage Score: 0.029\n",
      "Episode 680\tAverage Score: 0.030\n",
      "Episode 690\tAverage Score: 0.032\n",
      "Episode 700\tAverage Score: 0.031\n",
      "Episode 710\tAverage Score: 0.027\n",
      "Episode 720\tAverage Score: 0.027\n",
      "Episode 730\tAverage Score: 0.030\n",
      "Episode 740\tAverage Score: 0.028\n",
      "Episode 750\tAverage Score: 0.029\n",
      "Episode 760\tAverage Score: 0.028\n",
      "Episode 770\tAverage Score: 0.027\n",
      "Episode 780\tAverage Score: 0.034\n",
      "Episode 790\tAverage Score: 0.029\n",
      "Episode 800\tAverage Score: 0.029\n",
      "Episode 810\tAverage Score: 0.030\n",
      "Episode 820\tAverage Score: 0.032\n",
      "Episode 830\tAverage Score: 0.035\n",
      "Episode 840\tAverage Score: 0.040\n",
      "Episode 850\tAverage Score: 0.045\n",
      "Episode 860\tAverage Score: 0.053\n",
      "Episode 870\tAverage Score: 0.058\n",
      "Episode 880\tAverage Score: 0.056\n",
      "Episode 890\tAverage Score: 0.064\n",
      "Episode 900\tAverage Score: 0.068\n",
      "Episode 910\tAverage Score: 0.073\n",
      "Episode 920\tAverage Score: 0.075\n",
      "Episode 930\tAverage Score: 0.074\n",
      "Episode 940\tAverage Score: 0.073\n",
      "Episode 950\tAverage Score: 0.072\n",
      "Episode 960\tAverage Score: 0.071\n",
      "Episode 970\tAverage Score: 0.071\n",
      "Episode 980\tAverage Score: 0.075\n",
      "Episode 990\tAverage Score: 0.075\n",
      "Episode 1000\tAverage Score: 0.076\n",
      "Episode 1010\tAverage Score: 0.077\n",
      "Episode 1020\tAverage Score: 0.079\n",
      "Episode 1030\tAverage Score: 0.086\n",
      "Episode 1040\tAverage Score: 0.089\n",
      "Episode 1050\tAverage Score: 0.091\n",
      "Episode 1060\tAverage Score: 0.090\n",
      "Episode 1070\tAverage Score: 0.089\n",
      "Episode 1080\tAverage Score: 0.084\n",
      "Episode 1090\tAverage Score: 0.083\n",
      "Episode 1100\tAverage Score: 0.083\n",
      "Episode 1110\tAverage Score: 0.085\n",
      "Episode 1120\tAverage Score: 0.083\n",
      "Episode 1130\tAverage Score: 0.079\n",
      "Episode 1140\tAverage Score: 0.079\n",
      "Episode 1150\tAverage Score: 0.081\n",
      "Episode 1160\tAverage Score: 0.084\n",
      "Episode 1170\tAverage Score: 0.091\n",
      "Episode 1180\tAverage Score: 0.097\n",
      "Episode 1190\tAverage Score: 0.099\n",
      "Episode 1200\tAverage Score: 0.101\n",
      "Episode 1210\tAverage Score: 0.104\n",
      "Episode 1220\tAverage Score: 0.115\n",
      "Episode 1230\tAverage Score: 0.134\n",
      "Episode 1240\tAverage Score: 0.151\n",
      "Episode 1250\tAverage Score: 0.162\n",
      "Episode 1260\tAverage Score: 0.177\n",
      "Episode 1270\tAverage Score: 0.182\n",
      "Episode 1280\tAverage Score: 0.180\n",
      "Episode 1290\tAverage Score: 0.185\n",
      "Episode 1300\tAverage Score: 0.196\n",
      "Episode 1310\tAverage Score: 0.197\n",
      "Episode 1320\tAverage Score: 0.208\n",
      "Episode 1330\tAverage Score: 0.199\n",
      "Episode 1340\tAverage Score: 0.206\n",
      "Episode 1350\tAverage Score: 0.227\n",
      "Episode 1360\tAverage Score: 0.234\n",
      "Episode 1370\tAverage Score: 0.239\n",
      "Episode 1380\tAverage Score: 0.286\n",
      "Episode 1390\tAverage Score: 0.300\n",
      "Episode 1400\tAverage Score: 0.313\n",
      "Episode 1410\tAverage Score: 0.351\n",
      "Episode 1420\tAverage Score: 0.350\n",
      "Episode 1430\tAverage Score: 0.373\n",
      "Episode 1440\tAverage Score: 0.402\n",
      "Episode 1450\tAverage Score: 0.428\n",
      "Episode 1460\tAverage Score: 0.437\n",
      "Episode 1470\tAverage Score: 0.464\n",
      "Episode 1480\tAverage Score: 0.470\n",
      "Episode 1490\tAverage Score: 0.494\n",
      "Episode 1500\tAverage Score: 0.499\n",
      "Episode 1501\tAverage Score: 0.504"
     ]
    },
    {
     "data": {
      "image/png": "[encoded data removed]",
      "text/plain": [
       "<matplotlib.figure.Figure at 0x7f45587ffd68>"
      ]
     },
     "metadata": {
      "needs_background": "light"
     },
     "output_type": "display_data"
    }
   ],
   "source": [
    "# train the agent\n",
    "def ddpg(n_episodes=2500, max_t=1000, print_every=10, mov_avg_window=100):\n",
    "    print('training started')\n",
    "    brain_name = env.brain_names[0]\n",
    "    brain = env.brains[brain_name]\n",
    "    max_scores_deque = deque(maxlen=mov_avg_window)\n",
    "    scores = []\n",
    "    max_scores = []\n",
    "    for i_episode in range(1, n_episodes+1): # count(): # range(1, n_episodes+1):\n",
    "        env_info = env.reset(train_mode=True)[brain_name]      \n",
    "        num_agents = len(env_info.agents)\n",
    "        states = env_info.vector_observations                  \n",
    "        scores = np.zeros(num_agents)                          \n",
    "        for t in range(max_t):\n",
    "            actions = meta_agent.act(states)\n",
    "            env_info = env.step(actions)[brain_name]           \n",
    "            next_states = env_info.vector_observations         \n",
    "            rewards = env_info.rewards                         \n",
    "            dones = env_info.local_done                        \n",
    "            meta_agent.step(states, actions, rewards, next_states, dones)\n",
    "            states = next_states\n",
    "            scores += rewards\n",
    "            if np.any(dones):\n",
    "                break\n",
    "        score = np.max(scores)\n",
    "        max_scores_deque.append(score)\n",
    "        max_scores.append(score)\n",
    "        print('\\rEpisode {}\\tAverage Score: {:.3f}'.format(i_episode, np.mean(max_scores_deque)), end=\"\")\n",
    "        if i_episode % print_every == 0:\n",
    "            print('\\rEpisode {}\\tAverage Score: {:.3f}'.format(i_episode, np.mean(max_scores_deque)))\n",
    "        if np.mean(max_scores_deque) >= 0.5:\n",
    "            for i, save_agent in enumerate(meta_agent.agents):\n",
    "                torch.save(save_agent.actor_local.state_dict(), 'checkpoint_actor{}.pth'.format(i))\n",
    "                torch.save(save_agent.critic_local.state_dict(), 'checkpoint_critic{}.pth'.format(i))            \n",
    "            break\n",
    "            \n",
    "    return max_scores\n",
    "\n",
    "scores = ddpg()\n",
    "\n",
    "fig = plt.figure()\n",
    "ax = fig.add_subplot(111)\n",
    "plt.plot(np.arange(1, len(scores)+1), scores)\n",
    "plt.ylabel('Score')\n",
    "plt.xlabel('Episode #')\n",
    "plt.show()"
   ]
  }
 ],
 "metadata": {
  "kernelspec": {
   "display_name": "Python 3",
   "language": "python",
   "name": "python3"
  },
  "language_info": {
   "codemirror_mode": {
    "name": "ipython",
    "version": 3
   },
   "file_extension": ".py",
   "mimetype": "text/x-python",
   "name": "python",
   "nbconvert_exporter": "python",
   "pygments_lexer": "ipython3",
   "version": "3.6.3"
  }
 },
 "nbformat": 4,
 "nbformat_minor": 2
}
